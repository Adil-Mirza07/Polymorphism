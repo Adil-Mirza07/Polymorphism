{
 "cells": [
  {
   "cell_type": "code",
   "execution_count": 1,
   "id": "57f5412a-d409-4495-8389-32ab4f53749b",
   "metadata": {},
   "outputs": [],
   "source": [
    "def test(a,b) :\n",
    "    return a+b"
   ]
  },
  {
   "cell_type": "code",
   "execution_count": 2,
   "id": "d268bc1a-2d58-449f-ba5d-ea2baf825ce5",
   "metadata": {},
   "outputs": [
    {
     "data": {
      "text/plain": [
       "9"
      ]
     },
     "execution_count": 2,
     "metadata": {},
     "output_type": "execute_result"
    }
   ],
   "source": [
    "test(4,5)"
   ]
  },
  {
   "cell_type": "code",
   "execution_count": 4,
   "id": "ce6fa1bf-6bb2-40fa-b9f3-663e902e3769",
   "metadata": {},
   "outputs": [
    {
     "data": {
      "text/plain": [
       "'Mirza Adil'"
      ]
     },
     "execution_count": 4,
     "metadata": {},
     "output_type": "execute_result"
    }
   ],
   "source": [
    "test(\"Mirza \" , \"Adil\")"
   ]
  },
  {
   "cell_type": "code",
   "execution_count": 5,
   "id": "e9ca45f0-cba0-4535-a879-e21ee9b81d26",
   "metadata": {},
   "outputs": [
    {
     "data": {
      "text/plain": [
       "[2, 3, 4, 5, 5, 4, 5, 6, 7]"
      ]
     },
     "execution_count": 5,
     "metadata": {},
     "output_type": "execute_result"
    }
   ],
   "source": [
    "test([2,3,4,5,5] , [4,5,6,7])"
   ]
  },
  {
   "cell_type": "code",
   "execution_count": 6,
   "id": "2293f48f-4877-4ffa-bcad-cd62ec84deef",
   "metadata": {},
   "outputs": [],
   "source": [
    "class dat_science:\n",
    "    def syllabus(self) :\n",
    "        print(\"this is my method for data science syllbaus \")"
   ]
  },
  {
   "cell_type": "code",
   "execution_count": 7,
   "id": "c4193906-12b3-43d4-bfc4-c222be54075e",
   "metadata": {},
   "outputs": [],
   "source": [
    "class web_dev :\n",
    "    def syllabus(self) :\n",
    "        print(\"this is my method for web dev \")"
   ]
  },
  {
   "cell_type": "code",
   "execution_count": 8,
   "id": "7f76c419-29f3-40fc-8b23-b8cb35f47c75",
   "metadata": {},
   "outputs": [],
   "source": [
    "def class_parcer(class_obj) :\n",
    "    for i in class_obj :\n",
    "        i.syllabus()"
   ]
  },
  {
   "cell_type": "code",
   "execution_count": 9,
   "id": "9f101b73-3f67-41b4-9ba8-24a3868e5327",
   "metadata": {},
   "outputs": [
    {
     "ename": "NameError",
     "evalue": "name 'data_science' is not defined",
     "output_type": "error",
     "traceback": [
      "\u001b[0;31m---------------------------------------------------------------------------\u001b[0m",
      "\u001b[0;31mNameError\u001b[0m                                 Traceback (most recent call last)",
      "Cell \u001b[0;32mIn[9], line 1\u001b[0m\n\u001b[0;32m----> 1\u001b[0m obj_data_science\u001b[38;5;241m=\u001b[39m \u001b[43mdata_science\u001b[49m()\n",
      "\u001b[0;31mNameError\u001b[0m: name 'data_science' is not defined"
     ]
    }
   ],
   "source": [
    "obj_data_science= data_science()"
   ]
  },
  {
   "cell_type": "code",
   "execution_count": 10,
   "id": "f43f986b-000d-4c0f-8b74-76438d30e4ba",
   "metadata": {},
   "outputs": [],
   "source": [
    "obj_web_dev = web_dev()"
   ]
  },
  {
   "cell_type": "code",
   "execution_count": 11,
   "id": "b7cb4992-16f9-4d7c-bc6c-7ff7cad431bc",
   "metadata": {},
   "outputs": [
    {
     "ename": "NameError",
     "evalue": "name 'obj_data_science' is not defined",
     "output_type": "error",
     "traceback": [
      "\u001b[0;31m---------------------------------------------------------------------------\u001b[0m",
      "\u001b[0;31mNameError\u001b[0m                                 Traceback (most recent call last)",
      "Cell \u001b[0;32mIn[11], line 1\u001b[0m\n\u001b[0;32m----> 1\u001b[0m class_obj \u001b[38;5;241m=\u001b[39m [\u001b[43mobj_data_science\u001b[49m , obj_web_dev]\n",
      "\u001b[0;31mNameError\u001b[0m: name 'obj_data_science' is not defined"
     ]
    }
   ],
   "source": [
    "class_obj = [obj_data_science , obj_web_dev]"
   ]
  },
  {
   "cell_type": "code",
   "execution_count": 15,
   "id": "3e9853f8-0aaf-4b5c-9c18-5fd5b77312b2",
   "metadata": {},
   "outputs": [
    {
     "ename": "NameError",
     "evalue": "name 'class_obj' is not defined",
     "output_type": "error",
     "traceback": [
      "\u001b[0;31m---------------------------------------------------------------------------\u001b[0m",
      "\u001b[0;31mNameError\u001b[0m                                 Traceback (most recent call last)",
      "Cell \u001b[0;32mIn[15], line 1\u001b[0m\n\u001b[0;32m----> 1\u001b[0m class_parcer(\u001b[43mclass_obj\u001b[49m)\n",
      "\u001b[0;31mNameError\u001b[0m: name 'class_obj' is not defined"
     ]
    }
   ],
   "source": [
    "class_parcer(class_obj)"
   ]
  },
  {
   "cell_type": "code",
   "execution_count": null,
   "id": "4b05c1f1-f574-4a85-ab14-e508b9882543",
   "metadata": {},
   "outputs": [],
   "source": []
  }
 ],
 "metadata": {
  "kernelspec": {
   "display_name": "Python 3 (ipykernel)",
   "language": "python",
   "name": "python3"
  },
  "language_info": {
   "codemirror_mode": {
    "name": "ipython",
    "version": 3
   },
   "file_extension": ".py",
   "mimetype": "text/x-python",
   "name": "python",
   "nbconvert_exporter": "python",
   "pygments_lexer": "ipython3",
   "version": "3.10.8"
  }
 },
 "nbformat": 4,
 "nbformat_minor": 5
}
